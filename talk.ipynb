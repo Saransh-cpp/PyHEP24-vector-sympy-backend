{
 "cells": [
  {
   "cell_type": "markdown",
   "id": "19be60d3-4f49-40b2-9cf8-9506c522b426",
   "metadata": {},
   "source": [
    "# A new SymPy backend for vector: uniting experimental and theoretical physicists\n",
    "\n",
    "Jim Pivarski <sup>\\*</sup>, and Saransh Chopra <sup>\\*</sup> <sup>+</sup> (speaker)\n",
    "\n",
    "<sup>\\*</sup>: Princeton University <sup>+</sup>: Cluster Innovation Centre, University of Delhi\n",
    "\n",
    "[![Talk](https://img.shields.io/badge/PyHEP24-notebook_talk-blue?logo=github&logoColor=white&color=blue)](https://indico.cern.ch/event/1150631/contributions/5014393/)\n",
    "[![Binder](https://mybinder.org/badge_logo.svg)](https://mybinder.org/v2/gh/Saransh-cpp/PyHEP24-vector-sympy-backend/HEAD?urlpath=lab/tree/talk.ipynb)"
   ]
  },
  {
   "cell_type": "markdown",
   "id": "14a19307-f87f-4a2a-9061-22e996810dc1",
   "metadata": {},
   "source": [
    "Let's start by importing the required libraries and reading a data file from `scikit-hep-testdata` -"
   ]
  },
  {
   "cell_type": "code",
   "execution_count": 1,
   "id": "f3937a0b-f85a-4e8a-8b42-a206bea9d0db",
   "metadata": {},
   "outputs": [],
   "source": [
    "import skhep_testdata\n",
    "import uproot\n",
    "import vector\n",
    "import sympy\n",
    "\n",
    "data = uproot.open(skhep_testdata.data_path(\"uproot-HZZ.root\"))"
   ]
  },
  {
   "cell_type": "markdown",
   "id": "9608a96e-6537-4687-8447-ab508e72c385",
   "metadata": {},
   "source": [
    "We can now extract the data through the TTree using the 'Events' key -"
   ]
  },
  {
   "cell_type": "code",
   "execution_count": 2,
   "id": "20ef1ded-2860-44d7-965d-a34122def50c",
   "metadata": {},
   "outputs": [],
   "source": [
    "branches = data['events'].arrays()"
   ]
  },
  {
   "cell_type": "markdown",
   "id": "5142f18e-7a9f-4e46-840a-31f58f6e2b03",
   "metadata": {},
   "source": [
    "Let's take the first Muon of the second and third event as sample data -"
   ]
  },
  {
   "cell_type": "code",
   "execution_count": 3,
   "id": "6b5eb9d0-7fd8-4f81-922a-d20b05dc77c5",
   "metadata": {},
   "outputs": [],
   "source": [
    "px_1 = branches['Muon_Px'][1][0]\n",
    "py_1 = branches['Muon_Py'][1][0]\n",
    "pz_1 = branches['Muon_Pz'][1][0]\n",
    "E_1 = branches['Muon_E'][1][0]\n",
    "\n",
    "px_2 = branches['Muon_Px'][2][0]\n",
    "py_2 = branches['Muon_Py'][2][0]\n",
    "pz_2 = branches['Muon_Pz'][2][0]\n",
    "E_2 = branches['Muon_E'][2][0]"
   ]
  },
  {
   "cell_type": "markdown",
   "id": "945377e9-586d-408a-a7d9-c501c5e5286b",
   "metadata": {},
   "source": [
    "We can now create Object type vectors and perform vector methods (such as `deltaR`) on the same -"
   ]
  },
  {
   "cell_type": "code",
   "execution_count": 4,
   "id": "cbe71e4d-5b7f-4148-953a-81b6ab7f1178",
   "metadata": {},
   "outputs": [],
   "source": [
    "muon_1_obj = vector.MomentumObject4D(px=px_1, py=py_1, pz=pz_1, E=E_1)\n",
    "muon_2_obj = vector.MomentumObject4D(px=px_2, py=py_2, pz=pz_2, E=E_2)"
   ]
  },
  {
   "cell_type": "code",
   "execution_count": 5,
   "id": "c216f40e-c76d-423f-bc11-50bc4b008723",
   "metadata": {},
   "outputs": [
    {
     "data": {
      "text/plain": [
       "1.3067924381658622"
      ]
     },
     "execution_count": 5,
     "metadata": {},
     "output_type": "execute_result"
    }
   ],
   "source": [
    "muon_1_obj.deltaR(muon_2_obj)"
   ]
  },
  {
   "cell_type": "markdown",
   "id": "8d9cf555-0828-49af-b4f9-e213c24d8b62",
   "metadata": {},
   "source": [
    "SymPy vectors do not require numerical coordinates, instead, we can create symbolic containers using SymPy and pass them directly into `VectorSympy`/`MomentumSympy` contructors -"
   ]
  },
  {
   "cell_type": "code",
   "execution_count": 6,
   "id": "6f81d77f-4a5c-4a1f-a1f7-4f1c0debb9e8",
   "metadata": {},
   "outputs": [],
   "source": [
    "px_1, py_1, pz_1, E_1 = sympy.symbols(\"px_1 py_1 pz_1 E_1\", real=True)\n",
    "px_2, py_2, pz_2, E_2 = sympy.symbols(\"px_2 py_2 pz_2 E_2\", real=True)"
   ]
  },
  {
   "cell_type": "code",
   "execution_count": 7,
   "id": "29a658e2-54a8-472f-a27f-730763fbe5ec",
   "metadata": {},
   "outputs": [],
   "source": [
    "muon_1_sympy = vector.MomentumSympy4D(px=px_1, py=py_1, pz=pz_1, E=E_1)\n",
    "muon_2_sympy = vector.MomentumSympy4D(px=px_2, py=py_2, pz=pz_2, E=E_2)"
   ]
  },
  {
   "cell_type": "markdown",
   "id": "bff871e2-f820-4986-ada4-a1beeb1a22c3",
   "metadata": {},
   "source": [
    "Similar to other backends, one can perform vector methods (such as `deltaR`) on SymPy vectors, and the method will work automatically on SymPy symbols (`Symbol`) or expressions (`Expr`). Jupyter turns on SymPy's latex printing by default, but one can toggle it in terminal using `sympy.init_session`. "
   ]
  },
  {
   "cell_type": "code",
   "execution_count": 8,
   "id": "301a4bb5-df49-4b2b-90c6-da2f18856f36",
   "metadata": {},
   "outputs": [
    {
     "data": {
      "text/latex": [
       "$\\displaystyle \\sqrt{\\left(\\left(\\left(\\left(\\operatorname{atan}_{2}{\\left(py_{1},px_{1} \\right)} - \\operatorname{atan}_{2}{\\left(py_{2},px_{2} \\right)} + \\pi\\right) \\bmod 2 \\pi\\right) - \\pi\\right)^{2}\\right) + \\left(\\operatorname{asinh}{\\left(\\frac{pz_{1}}{\\sqrt{px_{1}^{2} + py_{1}^{2}}} \\right)} - \\operatorname{asinh}{\\left(\\frac{pz_{2}}{\\sqrt{px_{2}^{2} + py_{2}^{2}}} \\right)}\\right)^{2}}$"
      ],
      "text/plain": [
       "sqrt((Mod(atan2(py_1, px_1) - atan2(py_2, px_2) + pi, 2*pi) - pi)**2 + (asinh(pz_1/sqrt(px_1**2 + py_1**2)) - asinh(pz_2/sqrt(px_2**2 + py_2**2)))**2)"
      ]
     },
     "execution_count": 8,
     "metadata": {},
     "output_type": "execute_result"
    }
   ],
   "source": [
    "muon_1_sympy.deltaR(muon_2_sympy)"
   ]
  },
  {
   "cell_type": "markdown",
   "id": "27a7dba7-5239-4836-b4b0-597ea5b26a4f",
   "metadata": {},
   "source": [
    "Given that all the computation results are SymPy expressions, any SymPy functionality can be used on them. Here we use the `subs` function to substitute values in place of the symbols -"
   ]
  },
  {
   "cell_type": "code",
   "execution_count": 9,
   "id": "5dcb6ad7-6e87-4dce-85f2-70dea1a50287",
   "metadata": {},
   "outputs": [
    {
     "data": {
      "text/latex": [
       "$\\displaystyle \\sqrt{\\left(0.753814 - \\operatorname{asinh}{\\left(\\frac{pz_{2}}{\\sqrt{px_{2}^{2} + py_{2}^{2}}} \\right)}\\right)^{2} + \\left(\\left(\\left(\\left(1.53735 - 1.0 \\operatorname{atan}_{2}{\\left(py_{2},px_{2} \\right)}\\right) \\bmod 2 \\pi\\right) - \\pi\\right)^{2}\\right)}$"
      ],
      "text/plain": [
       "sqrt((0.753814 - asinh(pz_2/sqrt(px_2**2 + py_2**2)))**2 + (Mod(1.53735 - 1.0*atan2(py_2, px_2), 2*pi) - pi)**2)"
      ]
     },
     "execution_count": 9,
     "metadata": {},
     "output_type": "execute_result"
    }
   ],
   "source": [
    "muon_1_sympy.deltaR(muon_2_sympy).subs(\n",
    "    {\n",
    "        px_1: muon_1_obj.px,\n",
    "        py_1: muon_1_obj.py,\n",
    "        pz_1: muon_1_obj.pz,\n",
    "        E_1: muon_1_obj.E\n",
    "    }\n",
    ")"
   ]
  },
  {
   "cell_type": "markdown",
   "id": "b343072c-e6ef-4782-a3bc-545d499d84b1",
   "metadata": {},
   "source": [
    "We can similarly substitute all the values and obtain a numerical result -"
   ]
  },
  {
   "cell_type": "code",
   "execution_count": 10,
   "id": "6214391b-4619-47b1-8e19-4a2777d6aaff",
   "metadata": {},
   "outputs": [
    {
     "data": {
      "text/latex": [
       "$\\displaystyle \\sqrt{0.299083 + \\left(1.95474 - \\pi\\right)^{2}}$"
      ],
      "text/plain": [
       "sqrt(0.299083 + (1.95474 - pi)**2)"
      ]
     },
     "execution_count": 10,
     "metadata": {},
     "output_type": "execute_result"
    }
   ],
   "source": [
    "muon_1_sympy.deltaR(muon_2_sympy).subs(\n",
    "    {\n",
    "        px_1: muon_1_obj.px,\n",
    "        py_1: muon_1_obj.py,\n",
    "        pz_1: muon_1_obj.pz,\n",
    "        E_1: muon_1_obj.E,\n",
    "        px_2: muon_2_obj.px,\n",
    "        py_2: muon_2_obj.py,\n",
    "        pz_2: muon_2_obj.pz,\n",
    "        E_2: muon_2_obj.E,\n",
    "    }\n",
    ")"
   ]
  },
  {
   "cell_type": "markdown",
   "id": "ec1c4487-9be3-4f36-9378-cd7cceb79226",
   "metadata": {},
   "source": [
    "To evalute the numerical result, one can use SymPy's `evalf` method -"
   ]
  },
  {
   "cell_type": "code",
   "execution_count": 11,
   "id": "4fef1330-6389-4249-9459-51bc3d3d5eaa",
   "metadata": {},
   "outputs": [
    {
     "data": {
      "text/latex": [
       "$\\displaystyle 1.30679233752151$"
      ],
      "text/plain": [
       "1.30679233752151"
      ]
     },
     "execution_count": 11,
     "metadata": {},
     "output_type": "execute_result"
    }
   ],
   "source": [
    "muon_1_sympy.deltaR(muon_2_sympy).subs(\n",
    "    {\n",
    "        px_1: muon_1_obj.px,\n",
    "        py_1: muon_1_obj.py,\n",
    "        pz_1: muon_1_obj.pz,\n",
    "        E_1: muon_1_obj.E,\n",
    "        px_2: muon_2_obj.px,\n",
    "        py_2: muon_2_obj.py,\n",
    "        pz_2: muon_2_obj.pz,\n",
    "        E_2: muon_2_obj.E,\n",
    "    }\n",
    ").evalf()"
   ]
  },
  {
   "cell_type": "markdown",
   "id": "84677056-70c6-4d84-8c8d-b5ecf8284484",
   "metadata": {},
   "source": [
    "and voila, the results from the Object backend and SymPy backend match!"
   ]
  },
  {
   "cell_type": "markdown",
   "id": "b641cd37-94e2-46d9-9cd0-24b523cc313b",
   "metadata": {},
   "source": [
    "One can experiment with larger symbolic expressions as well. Let's boost a vector and obtain the `px` coordinate using the Object backend -"
   ]
  },
  {
   "cell_type": "code",
   "execution_count": 12,
   "id": "92798101-2cad-4249-b6ec-b8feaec9a08f",
   "metadata": {},
   "outputs": [],
   "source": [
    "v = vector.MomentumObject4D(pt=1, phi=2, eta=3, M=10)"
   ]
  },
  {
   "cell_type": "code",
   "execution_count": 13,
   "id": "bac9a121-f4cf-4156-8026-cf907000de08",
   "metadata": {},
   "outputs": [
    {
     "data": {
      "text/plain": [
       "-1.1810297606283302"
      ]
     },
     "execution_count": 13,
     "metadata": {},
     "output_type": "execute_result"
    }
   ],
   "source": [
    "v.boost(v.to_beta3()).px"
   ]
  },
  {
   "cell_type": "markdown",
   "id": "78657522-87c7-453b-8325-106526638740",
   "metadata": {},
   "source": [
    "The exact similar operation can be carried out using the SymPy backend. Let's create a SymPy vector with SymPy symbols -"
   ]
  },
  {
   "cell_type": "code",
   "execution_count": 14,
   "id": "0b0f85d6-7b00-4b4e-9a83-6de04e96142e",
   "metadata": {},
   "outputs": [],
   "source": [
    "pt, phi, eta, M = sympy.symbols(\"pt phi eta M\", real=True)\n",
    "v = vector.MomentumSympy4D(pt=pt, phi=phi, eta=eta, M=M)"
   ]
  },
  {
   "cell_type": "markdown",
   "id": "39287518-ed9c-4709-bd22-844bd956ab77",
   "metadata": {},
   "source": [
    "The operations will now work on the symbols instead of numerical values -"
   ]
  },
  {
   "cell_type": "code",
   "execution_count": 15,
   "id": "309d090c-5188-4889-9aa5-396d78a9cded",
   "metadata": {
    "scrolled": true
   },
   "outputs": [
    {
     "data": {
      "text/plain": [
       "MomentumSympy3D(pt=pt/sqrt(M**2 + 0.25*pt**2*(1 + exp(-2*eta))**2*exp(2*eta)), phi=phi, eta=eta)"
      ]
     },
     "execution_count": 15,
     "metadata": {},
     "output_type": "execute_result"
    }
   ],
   "source": [
    "v.to_beta3()"
   ]
  },
  {
   "cell_type": "code",
   "execution_count": 16,
   "id": "c9fc69a9-5768-422b-9ecb-ca2be7565273",
   "metadata": {},
   "outputs": [
    {
     "data": {
      "text/latex": [
       "$\\displaystyle \\frac{pt^{3} \\sin^{2}{\\left(\\phi \\right)} \\cos{\\left(\\phi \\right)}}{\\left(1 + \\frac{1}{\\sqrt{- \\frac{pt^{2} \\sin^{2}{\\left(\\phi \\right)}}{M^{2} + 0.25 pt^{2} \\left(1 + e^{- 2 \\eta}\\right)^{2} e^{2 \\eta}} - \\frac{pt^{2} \\cos^{2}{\\left(\\phi \\right)}}{M^{2} + 0.25 pt^{2} \\left(1 + e^{- 2 \\eta}\\right)^{2} e^{2 \\eta}} - \\frac{pt^{2} \\sinh^{2}{\\left(\\eta \\right)}}{M^{2} + 0.25 pt^{2} \\left(1 + e^{- 2 \\eta}\\right)^{2} e^{2 \\eta}} + 1}}\\right) \\left(M^{2} + 0.25 pt^{2} \\left(1 + e^{- 2 \\eta}\\right)^{2} e^{2 \\eta}\\right) \\left(- \\frac{pt^{2} \\sin^{2}{\\left(\\phi \\right)}}{M^{2} + 0.25 pt^{2} \\left(1 + e^{- 2 \\eta}\\right)^{2} e^{2 \\eta}} - \\frac{pt^{2} \\cos^{2}{\\left(\\phi \\right)}}{M^{2} + 0.25 pt^{2} \\left(1 + e^{- 2 \\eta}\\right)^{2} e^{2 \\eta}} - \\frac{pt^{2} \\sinh^{2}{\\left(\\eta \\right)}}{M^{2} + 0.25 pt^{2} \\left(1 + e^{- 2 \\eta}\\right)^{2} e^{2 \\eta}} + 1\\right)} + \\frac{pt^{3} \\cos{\\left(\\phi \\right)} \\sinh^{2}{\\left(\\eta \\right)}}{\\left(1 + \\frac{1}{\\sqrt{- \\frac{pt^{2} \\sin^{2}{\\left(\\phi \\right)}}{M^{2} + 0.25 pt^{2} \\left(1 + e^{- 2 \\eta}\\right)^{2} e^{2 \\eta}} - \\frac{pt^{2} \\cos^{2}{\\left(\\phi \\right)}}{M^{2} + 0.25 pt^{2} \\left(1 + e^{- 2 \\eta}\\right)^{2} e^{2 \\eta}} - \\frac{pt^{2} \\sinh^{2}{\\left(\\eta \\right)}}{M^{2} + 0.25 pt^{2} \\left(1 + e^{- 2 \\eta}\\right)^{2} e^{2 \\eta}} + 1}}\\right) \\left(M^{2} + 0.25 pt^{2} \\left(1 + e^{- 2 \\eta}\\right)^{2} e^{2 \\eta}\\right) \\left(- \\frac{pt^{2} \\sin^{2}{\\left(\\phi \\right)}}{M^{2} + 0.25 pt^{2} \\left(1 + e^{- 2 \\eta}\\right)^{2} e^{2 \\eta}} - \\frac{pt^{2} \\cos^{2}{\\left(\\phi \\right)}}{M^{2} + 0.25 pt^{2} \\left(1 + e^{- 2 \\eta}\\right)^{2} e^{2 \\eta}} - \\frac{pt^{2} \\sinh^{2}{\\left(\\eta \\right)}}{M^{2} + 0.25 pt^{2} \\left(1 + e^{- 2 \\eta}\\right)^{2} e^{2 \\eta}} + 1\\right)} + pt \\left(\\frac{pt^{2} \\cos^{2}{\\left(\\phi \\right)}}{\\left(1 + \\frac{1}{\\sqrt{- \\frac{pt^{2} \\sin^{2}{\\left(\\phi \\right)}}{M^{2} + 0.25 pt^{2} \\left(1 + e^{- 2 \\eta}\\right)^{2} e^{2 \\eta}} - \\frac{pt^{2} \\cos^{2}{\\left(\\phi \\right)}}{M^{2} + 0.25 pt^{2} \\left(1 + e^{- 2 \\eta}\\right)^{2} e^{2 \\eta}} - \\frac{pt^{2} \\sinh^{2}{\\left(\\eta \\right)}}{M^{2} + 0.25 pt^{2} \\left(1 + e^{- 2 \\eta}\\right)^{2} e^{2 \\eta}} + 1}}\\right) \\left(M^{2} + 0.25 pt^{2} \\left(1 + e^{- 2 \\eta}\\right)^{2} e^{2 \\eta}\\right) \\left(- \\frac{pt^{2} \\sin^{2}{\\left(\\phi \\right)}}{M^{2} + 0.25 pt^{2} \\left(1 + e^{- 2 \\eta}\\right)^{2} e^{2 \\eta}} - \\frac{pt^{2} \\cos^{2}{\\left(\\phi \\right)}}{M^{2} + 0.25 pt^{2} \\left(1 + e^{- 2 \\eta}\\right)^{2} e^{2 \\eta}} - \\frac{pt^{2} \\sinh^{2}{\\left(\\eta \\right)}}{M^{2} + 0.25 pt^{2} \\left(1 + e^{- 2 \\eta}\\right)^{2} e^{2 \\eta}} + 1\\right)} + 1\\right) \\cos{\\left(\\phi \\right)} + \\frac{pt \\sqrt{M^{2} + pt^{2} \\sin^{2}{\\left(\\phi \\right)} + pt^{2} \\cos^{2}{\\left(\\phi \\right)} + pt^{2} \\sinh^{2}{\\left(\\eta \\right)}} \\cos{\\left(\\phi \\right)}}{\\sqrt{M^{2} + 0.25 pt^{2} \\left(1 + e^{- 2 \\eta}\\right)^{2} e^{2 \\eta}} \\sqrt{- \\frac{pt^{2} \\sin^{2}{\\left(\\phi \\right)}}{M^{2} + 0.25 pt^{2} \\left(1 + e^{- 2 \\eta}\\right)^{2} e^{2 \\eta}} - \\frac{pt^{2} \\cos^{2}{\\left(\\phi \\right)}}{M^{2} + 0.25 pt^{2} \\left(1 + e^{- 2 \\eta}\\right)^{2} e^{2 \\eta}} - \\frac{pt^{2} \\sinh^{2}{\\left(\\eta \\right)}}{M^{2} + 0.25 pt^{2} \\left(1 + e^{- 2 \\eta}\\right)^{2} e^{2 \\eta}} + 1}}$"
      ],
      "text/plain": [
       "pt**3*sin(phi)**2*cos(phi)/((1 + 1/sqrt(-pt**2*sin(phi)**2/(M**2 + 0.25*pt**2*(1 + exp(-2*eta))**2*exp(2*eta)) - pt**2*cos(phi)**2/(M**2 + 0.25*pt**2*(1 + exp(-2*eta))**2*exp(2*eta)) - pt**2*sinh(eta)**2/(M**2 + 0.25*pt**2*(1 + exp(-2*eta))**2*exp(2*eta)) + 1))*(M**2 + 0.25*pt**2*(1 + exp(-2*eta))**2*exp(2*eta))*(-pt**2*sin(phi)**2/(M**2 + 0.25*pt**2*(1 + exp(-2*eta))**2*exp(2*eta)) - pt**2*cos(phi)**2/(M**2 + 0.25*pt**2*(1 + exp(-2*eta))**2*exp(2*eta)) - pt**2*sinh(eta)**2/(M**2 + 0.25*pt**2*(1 + exp(-2*eta))**2*exp(2*eta)) + 1)) + pt**3*cos(phi)*sinh(eta)**2/((1 + 1/sqrt(-pt**2*sin(phi)**2/(M**2 + 0.25*pt**2*(1 + exp(-2*eta))**2*exp(2*eta)) - pt**2*cos(phi)**2/(M**2 + 0.25*pt**2*(1 + exp(-2*eta))**2*exp(2*eta)) - pt**2*sinh(eta)**2/(M**2 + 0.25*pt**2*(1 + exp(-2*eta))**2*exp(2*eta)) + 1))*(M**2 + 0.25*pt**2*(1 + exp(-2*eta))**2*exp(2*eta))*(-pt**2*sin(phi)**2/(M**2 + 0.25*pt**2*(1 + exp(-2*eta))**2*exp(2*eta)) - pt**2*cos(phi)**2/(M**2 + 0.25*pt**2*(1 + exp(-2*eta))**2*exp(2*eta)) - pt**2*sinh(eta)**2/(M**2 + 0.25*pt**2*(1 + exp(-2*eta))**2*exp(2*eta)) + 1)) + pt*(pt**2*cos(phi)**2/((1 + 1/sqrt(-pt**2*sin(phi)**2/(M**2 + 0.25*pt**2*(1 + exp(-2*eta))**2*exp(2*eta)) - pt**2*cos(phi)**2/(M**2 + 0.25*pt**2*(1 + exp(-2*eta))**2*exp(2*eta)) - pt**2*sinh(eta)**2/(M**2 + 0.25*pt**2*(1 + exp(-2*eta))**2*exp(2*eta)) + 1))*(M**2 + 0.25*pt**2*(1 + exp(-2*eta))**2*exp(2*eta))*(-pt**2*sin(phi)**2/(M**2 + 0.25*pt**2*(1 + exp(-2*eta))**2*exp(2*eta)) - pt**2*cos(phi)**2/(M**2 + 0.25*pt**2*(1 + exp(-2*eta))**2*exp(2*eta)) - pt**2*sinh(eta)**2/(M**2 + 0.25*pt**2*(1 + exp(-2*eta))**2*exp(2*eta)) + 1)) + 1)*cos(phi) + pt*sqrt(M**2 + pt**2*sin(phi)**2 + pt**2*cos(phi)**2 + pt**2*sinh(eta)**2)*cos(phi)/(sqrt(M**2 + 0.25*pt**2*(1 + exp(-2*eta))**2*exp(2*eta))*sqrt(-pt**2*sin(phi)**2/(M**2 + 0.25*pt**2*(1 + exp(-2*eta))**2*exp(2*eta)) - pt**2*cos(phi)**2/(M**2 + 0.25*pt**2*(1 + exp(-2*eta))**2*exp(2*eta)) - pt**2*sinh(eta)**2/(M**2 + 0.25*pt**2*(1 + exp(-2*eta))**2*exp(2*eta)) + 1))"
      ]
     },
     "execution_count": 16,
     "metadata": {},
     "output_type": "execute_result"
    }
   ],
   "source": [
    "v.boost(v.to_beta3()).px"
   ]
  },
  {
   "cell_type": "markdown",
   "id": "1c3b7f18-2749-439f-96c5-5013d1d21f13",
   "metadata": {},
   "source": [
    "Given that the result itself is a SymPy expression, we can further use SymPy's `simplify` method to reduce or simplify the result. The simplification step might take some time!"
   ]
  },
  {
   "cell_type": "code",
   "execution_count": 17,
   "id": "469847d3-6de8-4e90-a9ad-a69f0531ed38",
   "metadata": {},
   "outputs": [
    {
     "data": {
      "text/latex": [
       "$\\displaystyle \\frac{pt \\left(\\sqrt{M^{2} + pt^{2} \\cosh^{2}{\\left(\\eta \\right)}} \\left(\\sqrt{\\frac{1.0 M^{2} e^{2 \\eta} + 0.25 pt^{2} e^{4 \\eta} - 1.0 pt^{2} e^{2 \\eta} \\sinh^{2}{\\left(\\eta \\right)} - 0.5 pt^{2} e^{2 \\eta} + 0.25 pt^{2}}{M^{2} e^{2 \\eta} + 0.25 pt^{2} \\left(e^{2 \\eta} + 1\\right)^{2}}} + 1\\right) \\left(1.0 M^{2} e^{2 \\eta} + 0.25 pt^{2} e^{4 \\eta} - 1.0 pt^{2} e^{2 \\eta} \\sinh^{2}{\\left(\\eta \\right)} - 0.5 pt^{2} e^{2 \\eta} + 0.25 pt^{2}\\right) e^{\\eta} + \\sqrt{1.0 M^{2} e^{2 \\eta} + 0.25 pt^{2} e^{4 \\eta} - 1.0 pt^{2} e^{2 \\eta} \\sinh^{2}{\\left(\\eta \\right)} - 0.5 pt^{2} e^{2 \\eta} + 0.25 pt^{2}} \\cdot \\left(1.0 M^{2} \\sqrt{\\frac{1.0 M^{2} e^{2 \\eta} + 0.25 pt^{2} e^{4 \\eta} - 1.0 pt^{2} e^{2 \\eta} \\sinh^{2}{\\left(\\eta \\right)} - 0.5 pt^{2} e^{2 \\eta} + 0.25 pt^{2}}{M^{2} e^{2 \\eta} + 0.25 pt^{2} e^{4 \\eta} + 0.5 pt^{2} e^{2 \\eta} + 0.25 pt^{2}}} e^{2 \\eta} + 1.0 M^{2} e^{2 \\eta} + 0.25 pt^{2} \\sqrt{\\frac{1.0 M^{2} e^{2 \\eta} + 0.25 pt^{2} e^{4 \\eta} - 1.0 pt^{2} e^{2 \\eta} \\sinh^{2}{\\left(\\eta \\right)} - 0.5 pt^{2} e^{2 \\eta} + 0.25 pt^{2}}{M^{2} e^{2 \\eta} + 0.25 pt^{2} e^{4 \\eta} + 0.5 pt^{2} e^{2 \\eta} + 0.25 pt^{2}}} e^{4 \\eta} + 0.5 pt^{2} \\sqrt{\\frac{1.0 M^{2} e^{2 \\eta} + 0.25 pt^{2} e^{4 \\eta} - 1.0 pt^{2} e^{2 \\eta} \\sinh^{2}{\\left(\\eta \\right)} - 0.5 pt^{2} e^{2 \\eta} + 0.25 pt^{2}}{M^{2} e^{2 \\eta} + 0.25 pt^{2} e^{4 \\eta} + 0.5 pt^{2} e^{2 \\eta} + 0.25 pt^{2}}} e^{2 \\eta} + 0.25 pt^{2} \\sqrt{\\frac{1.0 M^{2} e^{2 \\eta} + 0.25 pt^{2} e^{4 \\eta} - 1.0 pt^{2} e^{2 \\eta} \\sinh^{2}{\\left(\\eta \\right)} - 0.5 pt^{2} e^{2 \\eta} + 0.25 pt^{2}}{M^{2} e^{2 \\eta} + 0.25 pt^{2} e^{4 \\eta} + 0.5 pt^{2} e^{2 \\eta} + 0.25 pt^{2}}} + 0.25 pt^{2} e^{4 \\eta} - 1.0 pt^{2} e^{2 \\eta} \\sinh^{2}{\\left(\\eta \\right)} - 0.5 pt^{2} e^{2 \\eta} + 0.25 pt^{2}\\right)\\right) \\cos{\\left(\\phi \\right)}}{\\left(\\sqrt{\\frac{1.0 M^{2} e^{2 \\eta} + 0.25 pt^{2} e^{4 \\eta} - 1.0 pt^{2} e^{2 \\eta} \\sinh^{2}{\\left(\\eta \\right)} - 0.5 pt^{2} e^{2 \\eta} + 0.25 pt^{2}}{M^{2} e^{2 \\eta} + 0.25 pt^{2} \\left(e^{2 \\eta} + 1\\right)^{2}}} + 1\\right) \\left(1.0 M^{2} e^{2 \\eta} + 0.25 pt^{2} e^{4 \\eta} - 1.0 pt^{2} e^{2 \\eta} \\sinh^{2}{\\left(\\eta \\right)} - 0.5 pt^{2} e^{2 \\eta} + 0.25 pt^{2}\\right)^{\\frac{3}{2}}}$"
      ],
      "text/plain": [
       "pt*(sqrt(M**2 + pt**2*cosh(eta)**2)*(sqrt((1.0*M**2*exp(2*eta) + 0.25*pt**2*exp(4*eta) - 1.0*pt**2*exp(2*eta)*sinh(eta)**2 - 0.5*pt**2*exp(2*eta) + 0.25*pt**2)/(M**2*exp(2*eta) + 0.25*pt**2*(exp(2*eta) + 1)**2)) + 1)*(1.0*M**2*exp(2*eta) + 0.25*pt**2*exp(4*eta) - 1.0*pt**2*exp(2*eta)*sinh(eta)**2 - 0.5*pt**2*exp(2*eta) + 0.25*pt**2)*exp(eta) + sqrt(1.0*M**2*exp(2*eta) + 0.25*pt**2*exp(4*eta) - 1.0*pt**2*exp(2*eta)*sinh(eta)**2 - 0.5*pt**2*exp(2*eta) + 0.25*pt**2)*(1.0*M**2*sqrt((1.0*M**2*exp(2*eta) + 0.25*pt**2*exp(4*eta) - 1.0*pt**2*exp(2*eta)*sinh(eta)**2 - 0.5*pt**2*exp(2*eta) + 0.25*pt**2)/(M**2*exp(2*eta) + 0.25*pt**2*exp(4*eta) + 0.5*pt**2*exp(2*eta) + 0.25*pt**2))*exp(2*eta) + 1.0*M**2*exp(2*eta) + 0.25*pt**2*sqrt((1.0*M**2*exp(2*eta) + 0.25*pt**2*exp(4*eta) - 1.0*pt**2*exp(2*eta)*sinh(eta)**2 - 0.5*pt**2*exp(2*eta) + 0.25*pt**2)/(M**2*exp(2*eta) + 0.25*pt**2*exp(4*eta) + 0.5*pt**2*exp(2*eta) + 0.25*pt**2))*exp(4*eta) + 0.5*pt**2*sqrt((1.0*M**2*exp(2*eta) + 0.25*pt**2*exp(4*eta) - 1.0*pt**2*exp(2*eta)*sinh(eta)**2 - 0.5*pt**2*exp(2*eta) + 0.25*pt**2)/(M**2*exp(2*eta) + 0.25*pt**2*exp(4*eta) + 0.5*pt**2*exp(2*eta) + 0.25*pt**2))*exp(2*eta) + 0.25*pt**2*sqrt((1.0*M**2*exp(2*eta) + 0.25*pt**2*exp(4*eta) - 1.0*pt**2*exp(2*eta)*sinh(eta)**2 - 0.5*pt**2*exp(2*eta) + 0.25*pt**2)/(M**2*exp(2*eta) + 0.25*pt**2*exp(4*eta) + 0.5*pt**2*exp(2*eta) + 0.25*pt**2)) + 0.25*pt**2*exp(4*eta) - 1.0*pt**2*exp(2*eta)*sinh(eta)**2 - 0.5*pt**2*exp(2*eta) + 0.25*pt**2))*cos(phi)/((sqrt((1.0*M**2*exp(2*eta) + 0.25*pt**2*exp(4*eta) - 1.0*pt**2*exp(2*eta)*sinh(eta)**2 - 0.5*pt**2*exp(2*eta) + 0.25*pt**2)/(M**2*exp(2*eta) + 0.25*pt**2*(exp(2*eta) + 1)**2)) + 1)*(1.0*M**2*exp(2*eta) + 0.25*pt**2*exp(4*eta) - 1.0*pt**2*exp(2*eta)*sinh(eta)**2 - 0.5*pt**2*exp(2*eta) + 0.25*pt**2)**(3/2))"
      ]
     },
     "execution_count": 17,
     "metadata": {},
     "output_type": "execute_result"
    }
   ],
   "source": [
    "v.boost(v.to_beta3()).px.simplify()"
   ]
  },
  {
   "cell_type": "markdown",
   "id": "0d540c07-f865-476b-8272-3a6b045513b6",
   "metadata": {},
   "source": [
    "Finally, we substitute the values and evaluate the SymPy expression to validate the result -"
   ]
  },
  {
   "cell_type": "code",
   "execution_count": 18,
   "id": "c1643847-9756-4b45-bfc3-5a665e72c0ac",
   "metadata": {},
   "outputs": [
    {
     "data": {
      "text/latex": [
       "$\\displaystyle \\frac{\\sqrt{\\cos^{2}{\\left(2 \\right)} + \\sin^{2}{\\left(2 \\right)} + 100 + \\sinh^{2}{\\left(3 \\right)}} \\cos{\\left(2 \\right)}}{10 \\sqrt{1 + 0.0025 \\left(e^{-6} + 1\\right)^{2} e^{6}} \\sqrt{- \\frac{\\sinh^{2}{\\left(3 \\right)}}{100 + 0.25 \\left(e^{-6} + 1\\right)^{2} e^{6}} - \\frac{\\sin^{2}{\\left(2 \\right)}}{100 + 0.25 \\left(e^{-6} + 1\\right)^{2} e^{6}} - \\frac{\\cos^{2}{\\left(2 \\right)}}{100 + 0.25 \\left(e^{-6} + 1\\right)^{2} e^{6}} + 1}} + \\left(\\frac{\\cos^{2}{\\left(2 \\right)}}{\\left(1 + \\frac{1}{\\sqrt{- \\frac{\\sinh^{2}{\\left(3 \\right)}}{100 + 0.25 \\left(e^{-6} + 1\\right)^{2} e^{6}} - \\frac{\\sin^{2}{\\left(2 \\right)}}{100 + 0.25 \\left(e^{-6} + 1\\right)^{2} e^{6}} - \\frac{\\cos^{2}{\\left(2 \\right)}}{100 + 0.25 \\left(e^{-6} + 1\\right)^{2} e^{6}} + 1}}\\right) \\left(100 + 0.25 \\left(e^{-6} + 1\\right)^{2} e^{6}\\right) \\left(- \\frac{\\sinh^{2}{\\left(3 \\right)}}{100 + 0.25 \\left(e^{-6} + 1\\right)^{2} e^{6}} - \\frac{\\sin^{2}{\\left(2 \\right)}}{100 + 0.25 \\left(e^{-6} + 1\\right)^{2} e^{6}} - \\frac{\\cos^{2}{\\left(2 \\right)}}{100 + 0.25 \\left(e^{-6} + 1\\right)^{2} e^{6}} + 1\\right)} + 1\\right) \\cos{\\left(2 \\right)} + \\frac{\\cos{\\left(2 \\right)} \\sinh^{2}{\\left(3 \\right)}}{\\left(1 + \\frac{1}{\\sqrt{- \\frac{\\sinh^{2}{\\left(3 \\right)}}{100 + 0.25 \\left(e^{-6} + 1\\right)^{2} e^{6}} - \\frac{\\sin^{2}{\\left(2 \\right)}}{100 + 0.25 \\left(e^{-6} + 1\\right)^{2} e^{6}} - \\frac{\\cos^{2}{\\left(2 \\right)}}{100 + 0.25 \\left(e^{-6} + 1\\right)^{2} e^{6}} + 1}}\\right) \\left(100 + 0.25 \\left(e^{-6} + 1\\right)^{2} e^{6}\\right) \\left(- \\frac{\\sinh^{2}{\\left(3 \\right)}}{100 + 0.25 \\left(e^{-6} + 1\\right)^{2} e^{6}} - \\frac{\\sin^{2}{\\left(2 \\right)}}{100 + 0.25 \\left(e^{-6} + 1\\right)^{2} e^{6}} - \\frac{\\cos^{2}{\\left(2 \\right)}}{100 + 0.25 \\left(e^{-6} + 1\\right)^{2} e^{6}} + 1\\right)} + \\frac{\\sin^{2}{\\left(2 \\right)} \\cos{\\left(2 \\right)}}{\\left(1 + \\frac{1}{\\sqrt{- \\frac{\\sinh^{2}{\\left(3 \\right)}}{100 + 0.25 \\left(e^{-6} + 1\\right)^{2} e^{6}} - \\frac{\\sin^{2}{\\left(2 \\right)}}{100 + 0.25 \\left(e^{-6} + 1\\right)^{2} e^{6}} - \\frac{\\cos^{2}{\\left(2 \\right)}}{100 + 0.25 \\left(e^{-6} + 1\\right)^{2} e^{6}} + 1}}\\right) \\left(100 + 0.25 \\left(e^{-6} + 1\\right)^{2} e^{6}\\right) \\left(- \\frac{\\sinh^{2}{\\left(3 \\right)}}{100 + 0.25 \\left(e^{-6} + 1\\right)^{2} e^{6}} - \\frac{\\sin^{2}{\\left(2 \\right)}}{100 + 0.25 \\left(e^{-6} + 1\\right)^{2} e^{6}} - \\frac{\\cos^{2}{\\left(2 \\right)}}{100 + 0.25 \\left(e^{-6} + 1\\right)^{2} e^{6}} + 1\\right)}$"
      ],
      "text/plain": [
       "sqrt(cos(2)**2 + sin(2)**2 + 100 + sinh(3)**2)*cos(2)/(10*sqrt(1 + 0.0025*(exp(-6) + 1)**2*exp(6))*sqrt(-sinh(3)**2/(100 + 0.25*(exp(-6) + 1)**2*exp(6)) - sin(2)**2/(100 + 0.25*(exp(-6) + 1)**2*exp(6)) - cos(2)**2/(100 + 0.25*(exp(-6) + 1)**2*exp(6)) + 1)) + (cos(2)**2/((1 + 1/sqrt(-sinh(3)**2/(100 + 0.25*(exp(-6) + 1)**2*exp(6)) - sin(2)**2/(100 + 0.25*(exp(-6) + 1)**2*exp(6)) - cos(2)**2/(100 + 0.25*(exp(-6) + 1)**2*exp(6)) + 1))*(100 + 0.25*(exp(-6) + 1)**2*exp(6))*(-sinh(3)**2/(100 + 0.25*(exp(-6) + 1)**2*exp(6)) - sin(2)**2/(100 + 0.25*(exp(-6) + 1)**2*exp(6)) - cos(2)**2/(100 + 0.25*(exp(-6) + 1)**2*exp(6)) + 1)) + 1)*cos(2) + cos(2)*sinh(3)**2/((1 + 1/sqrt(-sinh(3)**2/(100 + 0.25*(exp(-6) + 1)**2*exp(6)) - sin(2)**2/(100 + 0.25*(exp(-6) + 1)**2*exp(6)) - cos(2)**2/(100 + 0.25*(exp(-6) + 1)**2*exp(6)) + 1))*(100 + 0.25*(exp(-6) + 1)**2*exp(6))*(-sinh(3)**2/(100 + 0.25*(exp(-6) + 1)**2*exp(6)) - sin(2)**2/(100 + 0.25*(exp(-6) + 1)**2*exp(6)) - cos(2)**2/(100 + 0.25*(exp(-6) + 1)**2*exp(6)) + 1)) + sin(2)**2*cos(2)/((1 + 1/sqrt(-sinh(3)**2/(100 + 0.25*(exp(-6) + 1)**2*exp(6)) - sin(2)**2/(100 + 0.25*(exp(-6) + 1)**2*exp(6)) - cos(2)**2/(100 + 0.25*(exp(-6) + 1)**2*exp(6)) + 1))*(100 + 0.25*(exp(-6) + 1)**2*exp(6))*(-sinh(3)**2/(100 + 0.25*(exp(-6) + 1)**2*exp(6)) - sin(2)**2/(100 + 0.25*(exp(-6) + 1)**2*exp(6)) - cos(2)**2/(100 + 0.25*(exp(-6) + 1)**2*exp(6)) + 1))"
      ]
     },
     "execution_count": 18,
     "metadata": {},
     "output_type": "execute_result"
    }
   ],
   "source": [
    "values = {pt: 1, phi: 2, eta: 3, M: 10}\n",
    "v.boost(v.to_beta3()).px.subs(values)"
   ]
  },
  {
   "cell_type": "code",
   "execution_count": 19,
   "id": "8e7e30e4-0794-4cb1-86b5-f4bd566f59e1",
   "metadata": {},
   "outputs": [
    {
     "data": {
      "text/latex": [
       "$\\displaystyle -1.18102976062833$"
      ],
      "text/plain": [
       "-1.18102976062833"
      ]
     },
     "execution_count": 19,
     "metadata": {},
     "output_type": "execute_result"
    }
   ],
   "source": [
    "v.boost(v.to_beta3()).px.subs(values).evalf()"
   ]
  },
  {
   "cell_type": "code",
   "execution_count": null,
   "id": "d7c0234b-8942-4ab7-b3f8-98cb30741b3c",
   "metadata": {},
   "outputs": [],
   "source": []
  }
 ],
 "metadata": {
  "kernelspec": {
   "display_name": "Python 3 (ipykernel)",
   "language": "python",
   "name": "python3"
  },
  "language_info": {
   "codemirror_mode": {
    "name": "ipython",
    "version": 3
   },
   "file_extension": ".py",
   "mimetype": "text/x-python",
   "name": "python",
   "nbconvert_exporter": "python",
   "pygments_lexer": "ipython3",
   "version": "3.11.5"
  }
 },
 "nbformat": 4,
 "nbformat_minor": 5
}
